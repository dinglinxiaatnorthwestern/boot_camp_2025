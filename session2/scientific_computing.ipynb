{
 "cells": [
  {
   "cell_type": "code",
   "execution_count": 1,
   "id": "1c826b31-cfc4-4839-9172-a39315e763be",
   "metadata": {},
   "outputs": [
    {
     "name": "stdout",
     "output_type": "stream",
     "text": [
      "        message: Optimization terminated successfully. (HiGHS Status 7: Optimal)\n",
      "        success: True\n",
      "         status: 0\n",
      "            fun: -20.0\n",
      "              x: [ 0.000e+00  1.000e+01]\n",
      "            nit: 1\n",
      "          lower:  residual: [ 0.000e+00  1.000e+01]\n",
      "                 marginals: [ 0.000e+00  0.000e+00]\n",
      "          upper:  residual: [       inf        inf]\n",
      "                 marginals: [ 0.000e+00  0.000e+00]\n",
      "          eqlin:  residual: []\n",
      "                 marginals: []\n",
      "        ineqlin:  residual: [ 1.000e+01  0.000e+00]\n",
      "                 marginals: [-0.000e+00 -1.000e+00]\n",
      " mip_node_count: 0\n",
      " mip_dual_bound: 0.0\n",
      "        mip_gap: 0.0\n"
     ]
    }
   ],
   "source": [
    "from scipy.optimize import linprog\n",
    "\n",
    "c = [-1, -2]   # maximize x1 + 2x2 -> minimize -x1 - 2x2\n",
    "A = [[2, 1],\n",
    "     [1, 2]]\n",
    "b = [20, 20]\n",
    "bounds = [(0, None), (0, None)]\n",
    "\n",
    "res = linprog(c, A_ub=A, b_ub=b, bounds=bounds, method=\"highs\")\n",
    "print(res)"
   ]
  },
  {
   "cell_type": "code",
   "execution_count": 2,
   "id": "80f3b4a0-d5ca-404f-a178-e44ded6594fd",
   "metadata": {},
   "outputs": [
    {
     "name": "stdout",
     "output_type": "stream",
     "text": [
      "Success: True - Optimization terminated successfully.\n",
      "x*: [0.99999552 0.99999104]  f(x*): 2.0056016706663067e-11\n"
     ]
    }
   ],
   "source": [
    "import numpy as np\n",
    "from scipy.optimize import minimize\n",
    "\n",
    "def f(z):\n",
    "    x, y = z\n",
    "    return (1 - x)**2 + 100*(y - x**2)**2\n",
    "\n",
    "x0 = np.array([-1.2, 1.0])  # initial guess\n",
    "res = minimize(f, x0, method=\"BFGS\", options={\"gtol\": 1e-8, \"maxiter\": 1000})\n",
    "print(\"Success:\", res.success, \"-\", res.message)\n",
    "print(\"x*:\", res.x, \" f(x*):\", res.fun)"
   ]
  },
  {
   "cell_type": "code",
   "execution_count": 5,
   "id": "a5827c9f-c29f-443b-887a-98b18be6e7ea",
   "metadata": {},
   "outputs": [
    {
     "name": "stdout",
     "output_type": "stream",
     "text": [
      "Success: True\n",
      "Message: `xtol` termination condition is satisfied.\n",
      "Status code: 2\n",
      "Objective value f(x*): 1.482114827940386e-14\n",
      "Optimal x: [0.99999991 0.99999983]\n",
      "Number of iterations: 127\n",
      "Number of function evaluations: 585\n",
      "Number of gradient evaluations: 195\n",
      "Number of Hessian evaluations: 0\n"
     ]
    }
   ],
   "source": [
    "from scipy.optimize import NonlinearConstraint\n",
    "\n",
    "def g(v):\n",
    "    x, y = v\n",
    "    return x*y - 9\n",
    "\n",
    "nl_con = NonlinearConstraint(g, -np.inf, 0.0)\n",
    "\n",
    "res = minimize(f, x0, method=\"trust-constr\",\n",
    "               constraints=[nl_con], bounds=bounds)\n",
    "\n",
    "# --- Print solution info ---\n",
    "print(\"Success:\", res.success)\n",
    "print(\"Message:\", res.message)\n",
    "print(\"Status code:\", res.status)\n",
    "print(\"Objective value f(x*):\", res.fun)\n",
    "print(\"Optimal x:\", res.x)\n",
    "print(\"Number of iterations:\", res.nit)\n",
    "print(\"Number of function evaluations:\", res.nfev)\n",
    "print(\"Number of gradient evaluations:\", res.njev)\n",
    "print(\"Number of Hessian evaluations:\", res.nhev)\n"
   ]
  },
  {
   "cell_type": "code",
   "execution_count": 6,
   "id": "0bc0664b-09fb-4891-9cd7-f655dbd31f2d",
   "metadata": {},
   "outputs": [
    {
     "name": "stdout",
     "output_type": "stream",
     "text": [
      "root: 0.7390851332151559\n"
     ]
    }
   ],
   "source": [
    "from math import cos\n",
    "from scipy.optimize import brentq\n",
    "\n",
    "f = lambda x: cos(x) - x\n",
    "root = brentq(f, 0, 1)  # f(0)>0, f(1)<0  → bracketed\n",
    "print(\"root:\", root)"
   ]
  },
  {
   "cell_type": "code",
   "execution_count": 7,
   "id": "33936695-e127-444f-b0a7-f255f7f80172",
   "metadata": {},
   "outputs": [
    {
     "name": "stdout",
     "output_type": "stream",
     "text": [
      "Set parameter Username\n",
      "Academic license - for non-commercial use only - expires 2026-02-14\n",
      "Optimal value: 20.0\n",
      "x = 0.0 y = 10.0\n"
     ]
    }
   ],
   "source": [
    "import cvxpy as cp\n",
    "\n",
    "x = cp.Variable()\n",
    "y = cp.Variable()\n",
    "\n",
    "objective = cp.Maximize(x + 2*y)\n",
    "constraints = [2*x + y <= 20,\n",
    "               x + 2*y <= 20,\n",
    "               x >= 0, y >= 0]\n",
    "\n",
    "prob = cp.Problem(objective, constraints)\n",
    "result = prob.solve(solver=cp.GUROBI)\n",
    "print(\"Optimal value:\", result)\n",
    "print(\"x =\", x.value, \"y =\", y.value)"
   ]
  },
  {
   "cell_type": "code",
   "execution_count": 8,
   "id": "d060656c-b017-49f5-a6d3-23c10886281b",
   "metadata": {},
   "outputs": [
    {
     "name": "stdout",
     "output_type": "stream",
     "text": [
      "x = 0.0 y = 10.0\n"
     ]
    }
   ],
   "source": [
    "from pyomo.environ import *\n",
    "\n",
    "model = ConcreteModel()\n",
    "model.x = Var(domain=NonNegativeReals)\n",
    "model.y = Var(domain=NonNegativeReals)\n",
    "\n",
    "model.obj = Objective(expr=model.x + 2*model.y, sense=maximize)\n",
    "model.con1 = Constraint(expr=2*model.x + model.y <= 20)\n",
    "model.con2 = Constraint(expr=model.x + 2*model.y <= 20)\n",
    "\n",
    "solver = SolverFactory(\"gurobi\")\n",
    "solver.solve(model)\n",
    "\n",
    "print(\"x =\", model.x(), \"y =\", model.y())"
   ]
  },
  {
   "cell_type": "code",
   "execution_count": 9,
   "id": "282c3eb7-5026-44ec-a900-3ec6bce3ec3e",
   "metadata": {},
   "outputs": [
    {
     "name": "stdout",
     "output_type": "stream",
     "text": [
      "Gurobi Optimizer version 11.0.3 build v11.0.3rc0 (mac64[rosetta2] - Darwin 22.6.0 22G120)\n",
      "\n",
      "CPU model: Apple M1 Pro\n",
      "Thread count: 10 physical cores, 10 logical processors, using up to 10 threads\n",
      "\n",
      "Optimize a model with 2 rows, 2 columns and 4 nonzeros\n",
      "Model fingerprint: 0xe9c063e4\n",
      "Coefficient statistics:\n",
      "  Matrix range     [1e+00, 2e+00]\n",
      "  Objective range  [1e+00, 2e+00]\n",
      "  Bounds range     [0e+00, 0e+00]\n",
      "  RHS range        [2e+01, 2e+01]\n",
      "Presolve time: 0.00s\n",
      "Presolved: 2 rows, 2 columns, 4 nonzeros\n",
      "\n",
      "Iteration    Objective       Primal Inf.    Dual Inf.      Time\n",
      "       0    3.0000000e+30   3.000000e+30   3.000000e+00      0s\n",
      "       2    2.0000000e+01   0.000000e+00   0.000000e+00      0s\n",
      "\n",
      "Solved in 2 iterations and 0.01 seconds (0.00 work units)\n",
      "Optimal objective  2.000000000e+01\n",
      "x = 0.0\n",
      "y = 10.0\n",
      "Objective value = 20.0\n"
     ]
    }
   ],
   "source": [
    "import gurobipy as gp\n",
    "from gurobipy import GRB\n",
    "\n",
    "m = gp.Model(\"example\")\n",
    "x = m.addVar(lb=0, name=\"x\")\n",
    "y = m.addVar(lb=0, name=\"y\")\n",
    "\n",
    "m.setObjective(x + 2*y, GRB.MAXIMIZE)\n",
    "m.addConstr(2*x + y <= 20, \"c1\")\n",
    "m.addConstr(x + 2*y <= 20, \"c2\")\n",
    "\n",
    "m.optimize()\n",
    "for v in m.getVars():\n",
    "    print(f\"{v.VarName} = {v.X}\")\n",
    "print(\"Objective value =\", m.ObjVal)"
   ]
  },
  {
   "cell_type": "code",
   "execution_count": 10,
   "id": "556b2777-62e5-4049-b359-2247d4991abd",
   "metadata": {},
   "outputs": [
    {
     "name": "stdout",
     "output_type": "stream",
     "text": [
      "Gurobi Optimizer version 11.0.3 build v11.0.3rc0 (mac64[rosetta2] - Darwin 22.6.0 22G120)\n",
      "\n",
      "CPU model: Apple M1 Pro\n",
      "Thread count: 10 physical cores, 10 logical processors, using up to 10 threads\n",
      "\n",
      "Optimize a model with 1 rows, 2 columns and 2 nonzeros\n",
      "Model fingerprint: 0xe21ddf3a\n",
      "Variable types: 0 continuous, 2 integer (1 binary)\n",
      "Coefficient statistics:\n",
      "  Matrix range     [1e+00, 2e+00]\n",
      "  Objective range  [2e+00, 3e+00]\n",
      "  Bounds range     [1e+00, 1e+00]\n",
      "  RHS range        [4e+00, 4e+00]\n",
      "Found heuristic solution: objective 7.0000000\n",
      "Presolve removed 1 rows and 2 columns\n",
      "Presolve time: 0.00s\n",
      "Presolve: All rows and columns removed\n",
      "\n",
      "Explored 0 nodes (0 simplex iterations) in 0.01 seconds (0.00 work units)\n",
      "Thread count was 1 (of 10 available processors)\n",
      "\n",
      "Solution count 2: 8 7 \n",
      "\n",
      "Optimal solution found (tolerance 1.00e-04)\n",
      "Best objective 8.000000000000e+00, best bound 8.000000000000e+00, gap 0.0000%\n"
     ]
    }
   ],
   "source": [
    "m2 = gp.Model(\"mip_demo\")\n",
    "x = m2.addVar(vtype=GRB.BINARY, name=\"x\")\n",
    "y = m2.addVar(vtype=GRB.INTEGER, lb=0, name=\"y\")\n",
    "\n",
    "m2.setObjective(3*x + 2*y, GRB.MAXIMIZE)\n",
    "m2.addConstr(2*x + y <= 4, \"cap\")\n",
    "m2.optimize()"
   ]
  },
  {
   "cell_type": "code",
   "execution_count": 11,
   "id": "6c87bedd-8786-475d-bc7c-4d2e431e75fe",
   "metadata": {},
   "outputs": [
    {
     "name": "stdout",
     "output_type": "stream",
     "text": [
      "Gurobi Optimizer version 11.0.3 build v11.0.3rc0 (mac64[rosetta2] - Darwin 22.6.0 22G120)\n",
      "\n",
      "CPU model: Apple M1 Pro\n",
      "Thread count: 10 physical cores, 10 logical processors, using up to 10 threads\n",
      "\n",
      "Optimize a model with 0 rows, 2 columns and 0 nonzeros\n",
      "Model fingerprint: 0x4b2adfa8\n",
      "Model has 1 quadratic constraint\n",
      "Coefficient statistics:\n",
      "  Matrix range     [0e+00, 0e+00]\n",
      "  QMatrix range    [1e+00, 1e+00]\n",
      "  Objective range  [1e+00, 1e+00]\n",
      "  Bounds range     [0e+00, 0e+00]\n",
      "  RHS range        [0e+00, 0e+00]\n",
      "  QRHS range       [1e+00, 1e+00]\n",
      "Presolve time: 0.01s\n",
      "Presolved: 1 rows, 3 columns, 1 nonzeros\n",
      "Presolved model has 1 second-order cone constraint\n",
      "Ordering time: 0.00s\n",
      "\n",
      "Barrier statistics:\n",
      " AA' NZ     : 0.000e+00\n",
      " Factor NZ  : 1.000e+00\n",
      " Factor Ops : 1.000e+00 (less than 1 second per iteration)\n",
      " Threads    : 1\n",
      "\n",
      "                  Objective                Residual\n",
      "Iter       Primal          Dual         Primal    Dual     Compl     Time\n",
      "   0   0.00000000e+00  0.00000000e+00  0.00e+00 3.16e+00  9.26e-01     0s\n",
      "   1  -5.73848504e-01 -4.40389050e-01  0.00e+00 1.05e+00  2.17e-01     0s\n",
      "   2  -1.41284816e+00 -1.49452246e+00  0.00e+00 1.16e-06  2.04e-02     0s\n",
      "   3  -1.41421032e+00 -1.41429588e+00  0.00e+00 3.18e-10  2.14e-05     0s\n",
      "   4  -1.41421356e+00 -1.41421365e+00  0.00e+00 3.39e-13  2.42e-08     0s\n",
      "\n",
      "Barrier solved model in 4 iterations and 0.02 seconds (0.00 work units)\n",
      "Optimal objective -1.41421356e+00\n",
      "\n",
      "x = -0.7071067779865361  y = -0.7071067779865361  obj = -1.4142135559730722\n"
     ]
    }
   ],
   "source": [
    "m = gp.Model(\"qcp_demo\")\n",
    "\n",
    "x = m.addVar(lb=-GRB.INFINITY, name=\"x\")\n",
    "y = m.addVar(lb=-GRB.INFINITY, name=\"y\")\n",
    "\n",
    "# Objective: minimize x + y\n",
    "m.setObjective(x + y, GRB.MINIMIZE)\n",
    "\n",
    "# Quadratic constraint: x^2 + y^2 <= 1  (unit circle)\n",
    "m.addQConstr(x*x + y*y <= 1, \"qc1\")\n",
    "\n",
    "m.optimize()\n",
    "print(\"x =\", x.X, \" y =\", y.X, \" obj =\", m.ObjVal)"
   ]
  },
  {
   "cell_type": "code",
   "execution_count": 12,
   "id": "c8be1d90-1c17-4660-9924-40d7b0048987",
   "metadata": {},
   "outputs": [
    {
     "name": "stdout",
     "output_type": "stream",
     "text": [
      "Version identifier: 22.1.0.0 | 2022-03-27 | 54982fbec\n",
      "CPXPARAM_Read_DataCheck                          1\n",
      "Tried aggregator 1 time.\n",
      "No LP presolve or aggregator reductions.\n",
      "Presolve time = 0.00 sec. (0.00 ticks)\n",
      "\n",
      "Iteration log . . .\n",
      "Iteration:     1   Dual infeasibility =             0.000000\n",
      "Iteration:     2   Dual objective     =            20.000000\n",
      "x = 0 y = 10.0\n",
      "Objective value = 20.0\n"
     ]
    }
   ],
   "source": [
    "from docplex.mp.model import Model\n",
    "\n",
    "mdl = Model(name=\"example\")\n",
    "\n",
    "# Variables\n",
    "x = mdl.continuous_var(name=\"x\", lb=0)\n",
    "y = mdl.continuous_var(name=\"y\", lb=0)\n",
    "\n",
    "# Objective: maximize x + 2y\n",
    "mdl.maximize(x + 2*y)\n",
    "\n",
    "# Constraints\n",
    "mdl.add_constraint(2*x + y <= 20, \"c1\")\n",
    "mdl.add_constraint(x + 2*y <= 20, \"c2\")\n",
    "\n",
    "# Solve\n",
    "solution = mdl.solve(log_output=True)\n",
    "print(\"x =\", x.solution_value, \"y =\", y.solution_value)\n",
    "print(\"Objective value =\", mdl.objective_value)"
   ]
  },
  {
   "cell_type": "code",
   "execution_count": 14,
   "id": "c4b4d353-4e55-4652-b263-5b15b67cf6f8",
   "metadata": {},
   "outputs": [
    {
     "name": "stdout",
     "output_type": "stream",
     "text": [
      "Version identifier: 22.1.0.0 | 2022-03-27 | 54982fbec\n",
      "CPXPARAM_Read_DataCheck                          1\n",
      "Found incumbent of value 0.000000 after 0.00 sec. (0.00 ticks)\n",
      "Tried aggregator 2 times.\n",
      "MIP Presolve eliminated 1 rows and 2 columns.\n",
      "MIP Presolve added 1 rows and 1 columns.\n",
      "Aggregator did 1 substitutions.\n",
      "All rows and columns eliminated.\n",
      "Presolve time = 0.01 sec. (0.00 ticks)\n",
      "\n",
      "Root node processing (before b&c):\n",
      "  Real time             =    0.01 sec. (0.00 ticks)\n",
      "Parallel b&c, 10 threads:\n",
      "  Real time             =    0.00 sec. (0.00 ticks)\n",
      "  Sync time (average)   =    0.00 sec.\n",
      "  Wait time (average)   =    0.00 sec.\n",
      "                          ------------\n",
      "Total (root+branch&cut) =    0.01 sec. (0.00 ticks)\n",
      "x = 0  y = 4.0  obj = 8.0\n"
     ]
    }
   ],
   "source": [
    "from docplex.mp.model import Model\n",
    "\n",
    "mdl = Model('mip_demo')\n",
    "x = mdl.binary_var(name='x')                   # 0/1\n",
    "y = mdl.integer_var(lb=0, name='y')           # integer ≥ 0\n",
    "\n",
    "mdl.maximize(3*x + 2*y)\n",
    "mdl.add_constraint(2*x + y <= 4, 'cap')\n",
    "\n",
    "sol = mdl.solve(log_output=True)\n",
    "print(\"x =\", x.solution_value, \" y =\", y.solution_value, \" obj =\", mdl.objective_value)"
   ]
  },
  {
   "cell_type": "code",
   "execution_count": 15,
   "id": "7774f418-be74-4c21-82bf-b9fcfbe487b7",
   "metadata": {},
   "outputs": [],
   "source": [
    "m.write(\"./example_model.mps\")"
   ]
  },
  {
   "cell_type": "code",
   "execution_count": 16,
   "id": "fbf1890f-2054-4a4f-9c74-0356604adc67",
   "metadata": {},
   "outputs": [
    {
     "name": "stdout",
     "output_type": "stream",
     "text": [
      "Read MPS format model from file example_model.mps\n",
      "Reading time = 0.01 seconds\n",
      "qcp_demo: 0 rows, 2 columns, 0 nonzeros\n",
      "Gurobi Optimizer version 11.0.3 build v11.0.3rc0 (mac64[rosetta2] - Darwin 22.6.0 22G120)\n",
      "\n",
      "CPU model: Apple M1 Pro\n",
      "Thread count: 10 physical cores, 10 logical processors, using up to 10 threads\n",
      "\n",
      "Optimize a model with 0 rows, 2 columns and 0 nonzeros\n",
      "Model fingerprint: 0x4b2adfa8\n",
      "Model has 1 quadratic constraint\n",
      "Coefficient statistics:\n",
      "  Matrix range     [0e+00, 0e+00]\n",
      "  QMatrix range    [1e+00, 1e+00]\n",
      "  Objective range  [1e+00, 1e+00]\n",
      "  Bounds range     [0e+00, 0e+00]\n",
      "  RHS range        [0e+00, 0e+00]\n",
      "  QRHS range       [1e+00, 1e+00]\n",
      "Presolve time: 0.01s\n",
      "Presolved: 1 rows, 3 columns, 1 nonzeros\n",
      "Presolved model has 1 second-order cone constraint\n",
      "Ordering time: 0.00s\n",
      "\n",
      "Barrier statistics:\n",
      " AA' NZ     : 0.000e+00\n",
      " Factor NZ  : 1.000e+00\n",
      " Factor Ops : 1.000e+00 (less than 1 second per iteration)\n",
      " Threads    : 1\n",
      "\n",
      "                  Objective                Residual\n",
      "Iter       Primal          Dual         Primal    Dual     Compl     Time\n",
      "   0   0.00000000e+00  0.00000000e+00  0.00e+00 3.16e+00  9.26e-01     0s\n",
      "   1  -5.73848504e-01 -4.40389050e-01  0.00e+00 1.05e+00  2.17e-01     0s\n",
      "   2  -1.41284816e+00 -1.49452246e+00  0.00e+00 1.16e-06  2.04e-02     0s\n",
      "   3  -1.41421032e+00 -1.41429588e+00  0.00e+00 3.18e-10  2.14e-05     0s\n",
      "   4  -1.41421356e+00 -1.41421365e+00  0.00e+00 3.39e-13  2.42e-08     0s\n",
      "\n",
      "Barrier solved model in 4 iterations and 0.01 seconds (0.00 work units)\n",
      "Optimal objective -1.41421356e+00\n",
      "\n"
     ]
    }
   ],
   "source": [
    "import gurobipy as gp\n",
    "m = gp.read(\"example_model.mps\")\n",
    "m.optimize()"
   ]
  },
  {
   "cell_type": "code",
   "execution_count": 17,
   "id": "0c99b47f-0af4-4628-80a5-c511cc39660e",
   "metadata": {},
   "outputs": [
    {
     "name": "stdout",
     "output_type": "stream",
     "text": [
      "Version identifier: 22.1.0.0 | 2022-03-27 | 54982fbec\n",
      "CPXPARAM_Read_DataCheck                          1\n",
      "Tried aggregator 1 time.\n",
      "Reduced QCP has 1 rows, 3 columns, and 1 nonzeros.\n",
      "Reduced QCP has 1 quadratic constraints.\n",
      "Presolve time = 0.00 sec. (0.00 ticks)\n",
      "Parallel mode: using up to 10 threads for barrier.\n",
      "Number of nonzeros in lower triangle of A*A' = 0\n",
      "Using Approximate Minimum Degree ordering\n",
      "Total time for automatic ordering = 0.00 sec. (0.00 ticks)\n",
      "Summary statistics for Cholesky factor:\n",
      "  Threads                   = 10\n",
      "  Rows in Factor            = 1\n",
      "  Integer space required    = 1\n",
      "  Total non-zeros in factor = 1\n",
      "  Total FP ops to factor    = 1\n",
      " Itn      Primal Obj        Dual Obj  Prim Inf Upper Inf  Dual Inf Inf Ratio\n",
      "   0   0.0000000e+00   0.0000000e+00  1.41e+00  0.00e+00  4.41e+00  1.00e+00\n",
      "   1  -1.4334743e+00  -1.3112928e+00  1.41e+00  0.00e+00  4.41e+00  5.82e+00\n",
      "   2  -1.4142198e+00  -1.4138933e+00  7.03e-02  0.00e+00  2.19e-01  1.93e+03\n",
      "   3  -1.4142136e+00  -1.4142129e+00  2.71e-04  0.00e+00  8.45e-04  9.27e+05\n",
      "   4  -1.4142136e+00  -1.4142136e+00  5.69e-07  0.00e+00  1.78e-06  1.07e+08\n",
      "   5  -1.4142136e+00  -1.4142136e+00  5.70e-09  0.00e+00  1.78e-08  1.16e+10\n"
     ]
    },
    {
     "data": {
      "text/plain": [
       "docplex.mp.solution.SolveSolution(obj=-1.41421,values={x:-0.707107,y:-0..."
      ]
     },
     "execution_count": 17,
     "metadata": {},
     "output_type": "execute_result"
    }
   ],
   "source": [
    "from docplex.mp.model_reader import ModelReader\n",
    "\n",
    "mr = ModelReader()                     # uses local CPLEX if present\n",
    "mdl = mr.read_model('example_model.mps')\n",
    "mdl.solve(log_output=True)"
   ]
  },
  {
   "cell_type": "code",
   "execution_count": null,
   "id": "d1d107dd-0e52-47a3-ad6f-3172a7f2f48b",
   "metadata": {},
   "outputs": [],
   "source": []
  }
 ],
 "metadata": {
  "kernelspec": {
   "display_name": "Python 3 (ipykernel)",
   "language": "python",
   "name": "python3"
  },
  "language_info": {
   "codemirror_mode": {
    "name": "ipython",
    "version": 3
   },
   "file_extension": ".py",
   "mimetype": "text/x-python",
   "name": "python",
   "nbconvert_exporter": "python",
   "pygments_lexer": "ipython3",
   "version": "3.8.8"
  }
 },
 "nbformat": 4,
 "nbformat_minor": 5
}
